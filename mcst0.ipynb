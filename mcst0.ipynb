{
 "cells": [
  {
   "cell_type": "code",
   "execution_count": null,
   "id": "9435de36",
   "metadata": {},
   "outputs": [],
   "source": [
    "import math\n",
    "import random\n",
    "import logging\n",
    "import time\n",
    "import requests\n",
    "from typing import Any, Dict, List, Optional, Tuple\n",
    "import os\n",
    "import json\n",
    "import uuid\n",
    "import concurrent.futures\n",
    "from tqdm import tqdm\n",
    "from pydantic import BaseModel, Field"
   ]
  },
  {
   "cell_type": "code",
   "execution_count": null,
   "id": "61589a3b",
   "metadata": {},
   "outputs": [],
   "source": [
    "class CellData(BaseModel):\n",
    "    owner: Optional[str]\n",
    "    entity: str\n",
    "    has_moved: bool\n",
    "\n",
    "\n",
    "class FieldData(BaseModel):\n",
    "    height: int\n",
    "    width: int\n",
    "    cells: Dict[str, CellData]\n",
    "    territories: List[Dict[str, List[str]]]\n",
    "\n",
    "\n",
    "class TerritoryData(BaseModel):\n",
    "    owner: str\n",
    "    funds: int\n",
    "    tiles: List[List[int]]\n",
    "\n",
    "\n",
    "class GameState(BaseModel):\n",
    "    players: List[str]\n",
    "    current_player_index: int\n",
    "    field_data: FieldData\n",
    "    territories_data: List[TerritoryData]\n",
    "    is_game_over: bool = False\n",
    "    winner: Optional[str] = None\n",
    "    last_action: Optional[str] = None\n",
    "\n",
    "\n",
    "class Action(BaseModel):\n",
    "    action_id: int\n",
    "    action_type: str\n",
    "    params: Optional[Dict[str, Any]] = None\n",
    "    description: Optional[str] = None\n",
    "\n",
    "\n",
    "class ActionRequest(BaseModel):\n",
    "    state: GameState\n",
    "    action_id: Optional[int] = None\n",
    "\n",
    "\n",
    "class ApplyActionResponse(BaseModel):\n",
    "    state: GameState\n",
    "    is_game_over: bool\n",
    "    winner: Optional[str]"
   ]
  },
  {
   "cell_type": "code",
   "execution_count": null,
   "id": "8aec0be5",
   "metadata": {},
   "outputs": [],
   "source": [
    "class GameApi:\n",
    "    \"\"\"\n",
    "    Синхронный клиент для взаимодействия с API игры\n",
    "    \"\"\"\n",
    "\n",
    "    def __init__(self, base_url: str, timeout: int = 30):\n",
    "        self.base = base_url.rstrip(\"/\")\n",
    "        self.session = requests.Session()\n",
    "        self.session.timeout = timeout\n",
    "        self.query_count = 0\n",
    "        logging.basicConfig(\n",
    "            filename=\"mcst_api_sync.log\",\n",
    "            format=\"%(asctime)s %(levelname)s %(message)s\",\n",
    "            level=logging.INFO,\n",
    "        )\n",
    "\n",
    "    def _inc(self):\n",
    "        self.query_count += 1\n",
    "\n",
    "    def generate_state(self, num_players: int = 2, randomize: bool = False) -> GameState:\n",
    "        self._inc()\n",
    "        url = f\"{self.base}/generate_state\"\n",
    "        r = self.session.post(\n",
    "            url,\n",
    "            params={\"num_players\": num_players, \"random\": str(randomize).lower()},\n",
    "        )\n",
    "        r.raise_for_status()\n",
    "        return GameState.model_validate(r.json())\n",
    "\n",
    "    def get_actions(self, state: GameState) -> List[Action]:\n",
    "        self._inc()\n",
    "        url = f\"{self.base}/get_actions\"\n",
    "        r = self.session.post(url, json=state.model_dump())\n",
    "        r.raise_for_status()\n",
    "        return [Action.model_validate(o) for o in r.json()]\n",
    "\n",
    "    def apply_action(self, state: GameState, action: Action) -> ApplyActionResponse:\n",
    "        self._inc()\n",
    "        url = f\"{self.base}/apply_action\"\n",
    "        req = ActionRequest(state=state, action_id=action.action_id)\n",
    "        r = self.session.post(url, json=req.model_dump())\n",
    "        r.raise_for_status()\n",
    "        return ApplyActionResponse.model_validate(r.json())\n",
    "\n",
    "    @staticmethod\n",
    "    def is_terminal(state: GameState) -> bool:\n",
    "        return state.is_game_over\n",
    "\n",
    "    @staticmethod\n",
    "    def current_player(state: GameState) -> str:\n",
    "        return state.players[state.current_player_index]\n",
    "\n",
    "    @staticmethod\n",
    "    def evaluate_state(state: GameState) -> float:\n",
    "        \"\"\"Эвристическая оценка состояния\"\"\"\n",
    "        cells = state.field_data.cells\n",
    "        total = len(cells)\n",
    "        cur = state.players[state.current_player_index]\n",
    "        opp = state.players[1 - state.current_player_index]\n",
    "\n",
    "        # Подсчет количества захваченных клеток для каждого игрока\n",
    "        cnt_cur = sum(1 for c in cells.values() if c.owner == cur)\n",
    "        cnt_opp = sum(1 for c in cells.values() if c.owner == opp)\n",
    "        diff = cnt_cur / total\n",
    "        return max(-1.0, min(1.0, diff))\n",
    "\n",
    "\n",
    "class MCTSNode:\n",
    "    def __init__(self, state: GameState, parent: Optional[\"MCTSNode\"] = None, action: Optional[Action] = None):\n",
    "        self.state = state\n",
    "        self.parent = parent\n",
    "        self.action = action\n",
    "        self.children: List[\"MCTSNode\"] = []\n",
    "        self.visits = 0\n",
    "        self.value = 0.0\n",
    "        self.untried_actions: Optional[List[Action]] = None\n",
    "\n",
    "    def is_fully_expanded(self) -> bool:\n",
    "        return self.untried_actions is not None and not self.untried_actions\n",
    "\n",
    "    def best_uct_child(self, c: float) -> \"MCTSNode\":\n",
    "\n",
    "        scores = [\n",
    "            (child.value / child.visits) + c * math.sqrt(math.log(self.visits) / child.visits)\n",
    "            for child in self.children\n",
    "            if child.visits > 0\n",
    "        ]\n",
    "        if not scores:\n",
    "            return random.choice(self.children) if self.children else None\n",
    "        idx = scores.index(max(scores))\n",
    "        return self.children[idx]\n",
    "\n",
    "    def find_child_by_action(self, action_id: int) -> Optional[\"MCTSNode\"]:\n",
    "        \"\"\"Поиск дочернего узла по ID действия\"\"\"\n",
    "        for child in self.children:\n",
    "            if child.action and child.action.action_id == action_id:\n",
    "                return child\n",
    "        return None\n",
    "\n",
    "\n",
    "class MCTSPlayer:\n",
    "    def __init__(\n",
    "        self, player_id: str, game_api: GameApi, c: float = math.sqrt(2), max_depth: int = 200, workers: int = 1\n",
    "    ):\n",
    "        self.player_id = player_id\n",
    "        self.game = game_api\n",
    "        self.c = c\n",
    "        self.max_depth = max_depth\n",
    "        self.root = None\n",
    "        self.workers = workers\n",
    "\n",
    "    def initialize(self, state: GameState):\n",
    "        \"\"\"Инициализирует корневой узел дерева\"\"\"\n",
    "        self.root = MCTSNode(state)\n",
    "        self.root.untried_actions = self.game.get_actions(state)\n",
    "\n",
    "    def _select(self, node: MCTSNode) -> MCTSNode:\n",
    "        \"\"\"Выбор узла для расширения\"\"\"\n",
    "        while not self.game.is_terminal(node.state) and node.is_fully_expanded():\n",
    "            child = node.best_uct_child(self.c)\n",
    "            if not child:\n",
    "                break\n",
    "            node = child\n",
    "        return node\n",
    "\n",
    "    def _expand(self, node: MCTSNode) -> Optional[MCTSNode]:\n",
    "        \"\"\"Расширение узла новым дочерним узлом\"\"\"\n",
    "        if not node.untried_actions:\n",
    "            if not node.children:\n",
    "                # Загружаем доступные действия\n",
    "                node.untried_actions = self.game.get_actions(node.state)\n",
    "                if not node.untried_actions:\n",
    "                    return None\n",
    "            else:\n",
    "                return None\n",
    "\n",
    "        action = node.untried_actions.pop()\n",
    "        res = self.game.apply_action(node.state, action)\n",
    "        child = MCTSNode(res.state, parent=node, action=action)\n",
    "        child.untried_actions = self.game.get_actions(res.state)  # Сразу загружаем действия\n",
    "        node.children.append(child)\n",
    "        return child\n",
    "\n",
    "    def _simulate(self, node: MCTSNode) -> float:\n",
    "        \"\"\"Симуляция из текущего узла\"\"\"\n",
    "        state = node.state\n",
    "        depth = 0\n",
    "\n",
    "        while depth < self.max_depth and not self.game.is_terminal(state):\n",
    "            actions = self.game.get_actions(state)\n",
    "            if not actions:\n",
    "                break\n",
    "\n",
    "            action = random.choice(actions)\n",
    "            res = self.game.apply_action(state, action)\n",
    "            state = res.state\n",
    "            depth += 1\n",
    "\n",
    "        if self.game.is_terminal(state):\n",
    "            return 1.0 if state.winner == self.player_id else -1.0\n",
    "\n",
    "        # Эвристическая оценка для состояний без победы/поражения\n",
    "        return GameApi.evaluate_state(state)\n",
    "\n",
    "    def _backpropagate(self, node: MCTSNode, reward: float):\n",
    "        \"\"\"Обратное распространение результата симуляции\"\"\"\n",
    "        while node:\n",
    "            node.visits += 1\n",
    "            node_player = self.game.current_player(node.state)\n",
    "            # Инвертируем значение для узлов противника\n",
    "            node.value += reward if node_player == self.player_id else -reward\n",
    "            node = node.parent\n",
    "\n",
    "    def _run_iteration(self):\n",
    "        \"\"\"Выполняет одну итерацию MCTS\"\"\"\n",
    "        # 1. Выбор\n",
    "        node = self._select(self.root)\n",
    "\n",
    "        # 2. Расширение\n",
    "        if not self.game.is_terminal(node.state):\n",
    "            new_node = self._expand(node)\n",
    "            if new_node:\n",
    "                node = new_node\n",
    "\n",
    "        # 3. Симуляция\n",
    "        reward = self._simulate(node)\n",
    "\n",
    "        # 4. Распространение\n",
    "        self._backpropagate(node, reward)\n",
    "\n",
    "    def search(self, iterations: int, show_progress: bool = False, desc: str = \"MCTS\") -> Action:\n",
    "        \"\"\"Выполняет поиск лучшего хода\"\"\"\n",
    "        if not self.root:\n",
    "            raise ValueError(\"MCTS дерево не инициализировано\")\n",
    "\n",
    "        # Проверяем, что у корня есть untried_actions\n",
    "        if self.root.untried_actions is None:\n",
    "            self.root.untried_actions = self.game.get_actions(self.root.state)\n",
    "\n",
    "        # Если доступно только одно действие, сразу его возвращаем\n",
    "        if len(self.root.untried_actions) == 1:\n",
    "            return self.root.untried_actions[0]\n",
    "\n",
    "        if show_progress:\n",
    "            pbar = tqdm(total=iterations, desc=desc, unit=\"iter\")\n",
    "            start_time = time.time()\n",
    "            start_queries = self.game.query_count\n",
    "\n",
    "        if self.workers > 1:\n",
    "            iterations_per_worker = iterations // self.workers\n",
    "            remaining = iterations % self.workers  # можно выкинуть\n",
    "\n",
    "            # Так как боттлнек в игровом движке (который дергается через API), то можно запускать несколько потоков\n",
    "            with concurrent.futures.ThreadPoolExecutor(max_workers=self.workers) as executor:\n",
    "                futures = []\n",
    "\n",
    "                for i in range(iterations_per_worker):\n",
    "                    futures.append(executor.submit(self._run_iteration))\n",
    "\n",
    "                for i, future in enumerate(concurrent.futures.as_completed(futures)):\n",
    "                    if show_progress:\n",
    "                        pbar.update(1)\n",
    "        else:\n",
    "            for i in range(iterations):\n",
    "                self._run_iteration()\n",
    "\n",
    "                if show_progress:\n",
    "                    elapsed = time.time() - start_time\n",
    "                    queries_done = self.game.query_count - start_queries\n",
    "                    qps = queries_done / elapsed if elapsed > 0 else 0\n",
    "                    pbar.set_postfix({\"iter\": i + 1, \"queries\": queries_done, \"QPS\": f\"{qps:.1f}\"})\n",
    "                    pbar.update(1)\n",
    "\n",
    "        if show_progress:\n",
    "            pbar.close()\n",
    "\n",
    "        print(f\"Root has {len(self.root.children)} children after search\")\n",
    "\n",
    "        best_child = None\n",
    "        best_visits = -1\n",
    "\n",
    "        for child in self.root.children:\n",
    "            if child.visits > best_visits:\n",
    "                best_visits = child.visits\n",
    "                best_child = child\n",
    "\n",
    "        if not best_child:\n",
    "            if not self.root.untried_actions:\n",
    "                self.root.untried_actions = self.game.get_actions(self.root.state)\n",
    "            if self.root.untried_actions:\n",
    "                return random.choice(self.root.untried_actions)\n",
    "            else:\n",
    "                raise ValueError(\"No valid actions found!\")\n",
    "\n",
    "        return best_child.action\n",
    "\n",
    "    def update_root(self, action_id: int, new_state: GameState) -> bool:\n",
    "        \"\"\"\n",
    "        Обновляет корень дерева после выполнения хода.\n",
    "        Возвращает True если успешно обновили корень, иначе False.\n",
    "        \"\"\"\n",
    "        if not self.root or not self.root.children:\n",
    "            self.initialize(new_state)\n",
    "            return False\n",
    "\n",
    "        child = self.root.find_child_by_action(action_id)\n",
    "\n",
    "        if child:\n",
    "            # Если нашли подходящий узел, делаем его новым корнем\n",
    "            child.parent = None  # Отсоединяем от родителя\n",
    "            self.root = child\n",
    "            # Проверяем, есть ли у корня доступные действия\n",
    "            if self.root.untried_actions is None:\n",
    "                self.root.untried_actions = self.game.get_actions(self.root.state)\n",
    "            return True\n",
    "        else:\n",
    "            self.initialize(new_state)\n",
    "            return False"
   ]
  },
  {
   "cell_type": "code",
   "execution_count": null,
   "id": "37e3cb17",
   "metadata": {},
   "outputs": [],
   "source": [
    "def simulate_game(\n",
    "    api: GameApi,\n",
    "    max_moves: int = 50,\n",
    "    mcts_iters: int = 500,\n",
    "    c: float = 1.4,\n",
    "    max_depth: int = 200,\n",
    "    workers: int = 1,\n",
    ") -> None:\n",
    "    \"\"\"\n",
    "    Симуляция игры двух MCTS-игроков\n",
    "    \"\"\"\n",
    "    os.makedirs(\"logs\", exist_ok=True)\n",
    "    session_id = uuid.uuid4().hex\n",
    "    date_str = time.strftime(\"%Y%m%d_%H%M%S\", time.localtime())\n",
    "    log_path = os.path.join(\"logs\", f\"{session_id}_{date_str}.json\")\n",
    "\n",
    "    state = api.generate_state(num_players=2, randomize=False)\n",
    "\n",
    "    # Записываем начальное состояние в лог\n",
    "    with open(log_path, \"a\", encoding=\"utf-8\") as log_file:\n",
    "        log_file.write(json.dumps(state.model_dump(), ensure_ascii=False) + \"\\n\")\n",
    "\n",
    "    player1 = MCTSPlayer(player_id=state.players[0], game_api=api, c=c, max_depth=max_depth, workers=workers)\n",
    "    player2 = MCTSPlayer(player_id=state.players[1], game_api=api, c=c, max_depth=max_depth, workers=workers)\n",
    "\n",
    "    player1.initialize(state)\n",
    "    player2.initialize(state)\n",
    "\n",
    "    # История ходов\n",
    "    history = []\n",
    "\n",
    "    # Основной цикл игры\n",
    "    for move_no in tqdm(range(1, max_moves + 1), desc=\"Game moves\"):\n",
    "        # Определяем активного игрока\n",
    "        current_player_idx = state.current_player_index\n",
    "        current_player_id = state.players[current_player_idx]\n",
    "\n",
    "        # Выбираем активного игрока\n",
    "        active_player = player1 if current_player_id == player1.player_id else player2\n",
    "\n",
    "        print(f\"\\nMove {move_no} - Player {current_player_id}\")\n",
    "\n",
    "        # Поиск лучшего хода\n",
    "        action = active_player.search(\n",
    "            iterations=mcts_iters, show_progress=True, desc=f\"Move {move_no} (Player {current_player_id})\"\n",
    "        )\n",
    "\n",
    "        print(f\"Selected action: {action.action_id} ({action.action_type})\")\n",
    "\n",
    "        response = api.apply_action(state, action)\n",
    "        new_state = response.state\n",
    "\n",
    "        history.append((move_no, current_player_id, action.action_id))\n",
    "\n",
    "        print(f\"Player1 размер дерева: {len(player1.root.children) if player1.root else 0}\")\n",
    "        print(f\"Player2 размер дерева: {len(player2.root.children) if player2.root else 0}\")\n",
    "\n",
    "        player1_updated = player1.update_root(action.action_id, new_state)\n",
    "        player2_updated = player2.update_root(action.action_id, new_state)\n",
    "\n",
    "        print(f\"player1_updated: {player1_updated}, player2_updated: {player2_updated}\")\n",
    "\n",
    "        state = new_state\n",
    "\n",
    "        with open(log_path, \"a\", encoding=\"utf-8\") as log_file:\n",
    "            log_file.write(json.dumps(state.model_dump(), ensure_ascii=False) + \"\\n\")\n",
    "\n",
    "        if response.is_game_over:\n",
    "            break\n",
    "\n",
    "    winner = state.winner\n",
    "    print(f\"{move_no} ходов, победил {winner}\")"
   ]
  },
  {
   "cell_type": "code",
   "execution_count": 7,
   "id": "cc8899eb",
   "metadata": {},
   "outputs": [
    {
     "name": "stderr",
     "output_type": "stream",
     "text": [
      "Game moves:   0%|          | 0/500 [00:00<?, ?it/s]"
     ]
    },
    {
     "name": "stdout",
     "output_type": "stream",
     "text": [
      "\n",
      "Move 1 - Player player_0\n"
     ]
    },
    {
     "name": "stderr",
     "output_type": "stream",
     "text": [
      "\n",
      "\u001b[A\n",
      "\u001b[A\n",
      "Move 1 (Player player_0):  10%|█         | 2/20 [00:01<00:14,  1.26iter/s]\n",
      "Game moves:   0%|          | 1/500 [00:01<14:20,  1.72s/it]"
     ]
    },
    {
     "name": "stdout",
     "output_type": "stream",
     "text": [
      "Root has 2 children after search\n",
      "Selected action: 4 (spawn_unit)\n",
      "Player1 размер дерева: 2\n",
      "Player2 размер дерева: 0\n",
      "player1_updated: True, player2_updated: False\n",
      "\n",
      "Move 2 - Player player_0\n",
      "Selected action: 0 (end_turn)\n"
     ]
    },
    {
     "name": "stderr",
     "output_type": "stream",
     "text": [
      "Game moves:   0%|          | 2/500 [00:02<07:45,  1.07it/s]"
     ]
    },
    {
     "name": "stdout",
     "output_type": "stream",
     "text": [
      "Player1 размер дерева: 0\n",
      "Player2 размер дерева: 0\n",
      "player1_updated: False, player2_updated: False\n",
      "\n",
      "Move 3 - Player player_1\n"
     ]
    },
    {
     "name": "stderr",
     "output_type": "stream",
     "text": [
      "\n",
      "\u001b[A\n",
      "\u001b[A\n",
      "Move 3 (Player player_1):  10%|█         | 2/20 [00:01<00:12,  1.47iter/s]\n",
      "Game moves:   1%|          | 4/500 [00:03<06:09,  1.34it/s]"
     ]
    },
    {
     "name": "stdout",
     "output_type": "stream",
     "text": [
      "Root has 2 children after search\n",
      "Selected action: 3 (spawn_unit)\n",
      "Player1 размер дерева: 0\n",
      "Player2 размер дерева: 2\n",
      "player1_updated: False, player2_updated: True\n",
      "\n",
      "Move 4 - Player player_1\n",
      "Selected action: 0 (end_turn)\n",
      "Player1 размер дерева: 0\n",
      "Player2 размер дерева: 0\n",
      "player1_updated: False, player2_updated: False\n",
      "\n",
      "Move 5 - Player player_0\n"
     ]
    },
    {
     "name": "stderr",
     "output_type": "stream",
     "text": [
      "\n",
      "\u001b[A\n",
      "Move 5 (Player player_0):  10%|█         | 2/20 [00:00<00:08,  2.09iter/s]\n",
      "Game moves:   1%|          | 5/500 [00:04<07:14,  1.14it/s]"
     ]
    },
    {
     "name": "stdout",
     "output_type": "stream",
     "text": [
      "Root has 2 children after search\n",
      "Selected action: 6 (move_unit)\n",
      "Player1 размер дерева: 2\n",
      "Player2 размер дерева: 0\n",
      "player1_updated: True, player2_updated: False\n",
      "\n",
      "Move 6 - Player player_0\n",
      "Selected action: 0 (end_turn)\n"
     ]
    },
    {
     "name": "stderr",
     "output_type": "stream",
     "text": [
      "Game moves:   1%|          | 6/500 [00:04<05:12,  1.58it/s]"
     ]
    },
    {
     "name": "stdout",
     "output_type": "stream",
     "text": [
      "Player1 размер дерева: 0\n",
      "Player2 размер дерева: 0\n",
      "player1_updated: False, player2_updated: False\n",
      "\n",
      "Move 7 - Player player_1\n"
     ]
    },
    {
     "name": "stderr",
     "output_type": "stream",
     "text": [
      "\n",
      "\u001b[A\n",
      "Move 7 (Player player_1):  10%|█         | 2/20 [00:01<00:12,  1.46iter/s]\n",
      "Game moves:   1%|▏         | 7/500 [00:06<07:25,  1.11it/s]"
     ]
    },
    {
     "name": "stdout",
     "output_type": "stream",
     "text": [
      "Root has 2 children after search\n",
      "Selected action: 7 (move_unit)\n",
      "Player1 размер дерева: 0\n",
      "Player2 размер дерева: 2\n",
      "player1_updated: False, player2_updated: True\n",
      "\n",
      "Move 8 - Player player_1\n",
      "Selected action: 0 (end_turn)\n",
      "Player1 размер дерева: 0\n",
      "Player2 размер дерева: 0\n"
     ]
    },
    {
     "name": "stderr",
     "output_type": "stream",
     "text": [
      "Game moves:   2%|▏         | 8/500 [00:06<05:37,  1.46it/s]"
     ]
    },
    {
     "name": "stdout",
     "output_type": "stream",
     "text": [
      "player1_updated: False, player2_updated: False\n",
      "\n",
      "Move 9 - Player player_0\n"
     ]
    },
    {
     "name": "stderr",
     "output_type": "stream",
     "text": [
      "\n",
      "\u001b[A\n",
      "Move 9 (Player player_0):  10%|█         | 2/20 [00:00<00:07,  2.52iter/s]\n",
      "Game moves:   2%|▏         | 9/500 [00:07<06:07,  1.34it/s]"
     ]
    },
    {
     "name": "stdout",
     "output_type": "stream",
     "text": [
      "Root has 2 children after search\n",
      "Selected action: 6 (move_unit)\n",
      "Player1 размер дерева: 2\n",
      "Player2 размер дерева: 0\n",
      "player1_updated: True, player2_updated: False\n",
      "\n",
      "Move 10 - Player player_0\n",
      "Selected action: 0 (end_turn)\n",
      "Player1 размер дерева: 0\n",
      "Player2 размер дерева: 0\n"
     ]
    },
    {
     "name": "stderr",
     "output_type": "stream",
     "text": [
      "Game moves:   2%|▏         | 10/500 [00:07<04:48,  1.70it/s]"
     ]
    },
    {
     "name": "stdout",
     "output_type": "stream",
     "text": [
      "player1_updated: False, player2_updated: False\n",
      "\n",
      "Move 11 - Player player_1\n"
     ]
    },
    {
     "name": "stderr",
     "output_type": "stream",
     "text": [
      "\n",
      "\u001b[A\n",
      "Move 11 (Player player_1):  10%|█         | 2/20 [00:01<00:11,  1.60iter/s]\n",
      "Game moves:   2%|▏         | 11/500 [00:09<06:48,  1.20it/s]"
     ]
    },
    {
     "name": "stdout",
     "output_type": "stream",
     "text": [
      "Root has 2 children after search\n",
      "Selected action: 8 (move_unit)\n",
      "Player1 размер дерева: 0\n",
      "Player2 размер дерева: 2\n",
      "player1_updated: False, player2_updated: True\n",
      "\n",
      "Move 12 - Player player_1\n",
      "Selected action: 0 (end_turn)\n"
     ]
    },
    {
     "name": "stderr",
     "output_type": "stream",
     "text": [
      "Game moves:   2%|▏         | 12/500 [00:09<05:25,  1.50it/s]"
     ]
    },
    {
     "name": "stdout",
     "output_type": "stream",
     "text": [
      "Player1 размер дерева: 0\n",
      "Player2 размер дерева: 0\n",
      "player1_updated: False, player2_updated: False\n",
      "\n",
      "Move 13 - Player player_0\n"
     ]
    },
    {
     "name": "stderr",
     "output_type": "stream",
     "text": [
      "\n",
      "\u001b[A\n",
      "Move 13 (Player player_0):  10%|█         | 2/20 [00:01<00:10,  1.79iter/s]\n",
      "Game moves:   3%|▎         | 13/500 [00:10<06:51,  1.18it/s]"
     ]
    },
    {
     "name": "stdout",
     "output_type": "stream",
     "text": [
      "Root has 2 children after search\n",
      "Selected action: 12 (spawn_unit)\n",
      "Player1 размер дерева: 2\n",
      "Player2 размер дерева: 0\n",
      "player1_updated: True, player2_updated: False\n",
      "\n",
      "Move 14 - Player player_0\n"
     ]
    },
    {
     "name": "stderr",
     "output_type": "stream",
     "text": [
      "\n",
      "\u001b[A\n",
      "\u001b[A\n",
      "Move 14 (Player player_0):  10%|█         | 2/20 [00:01<00:09,  2.00iter/s]\n"
     ]
    },
    {
     "name": "stdout",
     "output_type": "stream",
     "text": [
      "Root has 2 children after search\n",
      "Selected action: 7 (move_unit)\n",
      "Player1 размер дерева: 2\n",
      "Player2 размер дерева: 0\n"
     ]
    },
    {
     "name": "stderr",
     "output_type": "stream",
     "text": [
      "Game moves:   3%|▎         | 14/500 [00:11<07:53,  1.03it/s]"
     ]
    },
    {
     "name": "stdout",
     "output_type": "stream",
     "text": [
      "player1_updated: True, player2_updated: False\n",
      "\n",
      "Move 15 - Player player_0\n",
      "Selected action: 0 (end_turn)\n",
      "Player1 размер дерева: 0\n",
      "Player2 размер дерева: 0\n"
     ]
    },
    {
     "name": "stderr",
     "output_type": "stream",
     "text": [
      "Game moves:   3%|▎         | 15/500 [00:12<06:13,  1.30it/s]"
     ]
    },
    {
     "name": "stdout",
     "output_type": "stream",
     "text": [
      "player1_updated: False, player2_updated: False\n",
      "\n",
      "Move 16 - Player player_1\n"
     ]
    },
    {
     "name": "stderr",
     "output_type": "stream",
     "text": [
      "\n",
      "Game moves:   3%|▎         | 15/500 [00:13<07:22,  1.10it/s]\n"
     ]
    },
    {
     "ename": "KeyboardInterrupt",
     "evalue": "",
     "output_type": "error",
     "traceback": [
      "\u001b[31m---------------------------------------------------------------------------\u001b[39m",
      "\u001b[31mKeyboardInterrupt\u001b[39m                         Traceback (most recent call last)",
      "\u001b[36mCell\u001b[39m\u001b[36m \u001b[39m\u001b[32mIn[7]\u001b[39m\u001b[32m, line 3\u001b[39m\n\u001b[32m      1\u001b[39m api = GameApi(\u001b[33m\"\u001b[39m\u001b[33mhttp://localhost:8080\u001b[39m\u001b[33m\"\u001b[39m)\n\u001b[32m----> \u001b[39m\u001b[32m3\u001b[39m \u001b[43msimulate_game\u001b[49m\u001b[43m(\u001b[49m\n\u001b[32m      4\u001b[39m \u001b[43m    \u001b[49m\u001b[43mapi\u001b[49m\u001b[43m,\u001b[49m\n\u001b[32m      5\u001b[39m \u001b[43m    \u001b[49m\u001b[43mmax_moves\u001b[49m\u001b[43m=\u001b[49m\u001b[32;43m500\u001b[39;49m\u001b[43m,\u001b[49m\u001b[43m      \u001b[49m\u001b[38;5;66;43;03m# Максимальное количество ходов в игре\u001b[39;49;00m\n\u001b[32m      6\u001b[39m \u001b[43m    \u001b[49m\u001b[43mmcts_iters\u001b[49m\u001b[43m=\u001b[49m\u001b[32;43m20\u001b[39;49m\u001b[43m,\u001b[49m\u001b[43m     \u001b[49m\u001b[38;5;66;43;03m# Количество итераций MCTS при расчете хода\u001b[39;49;00m\n\u001b[32m      7\u001b[39m \u001b[43m    \u001b[49m\u001b[43mc\u001b[49m\u001b[43m=\u001b[49m\u001b[32;43m1.4\u001b[39;49m\u001b[43m,\u001b[49m\u001b[43m             \u001b[49m\n\u001b[32m      8\u001b[39m \u001b[43m    \u001b[49m\u001b[43mmax_depth\u001b[49m\u001b[43m=\u001b[49m\u001b[32;43m6\u001b[39;49m\u001b[43m,\u001b[49m\u001b[43m       \u001b[49m\u001b[38;5;66;43;03m# Отсечка глубины симуляции\u001b[39;49;00m\n\u001b[32m      9\u001b[39m \u001b[43m    \u001b[49m\u001b[43mworkers\u001b[49m\u001b[43m=\u001b[49m\u001b[32;43m8\u001b[39;49m\u001b[43m,\u001b[49m\u001b[43m  \u001b[49m\n\u001b[32m     10\u001b[39m \u001b[43m)\u001b[49m\n",
      "\u001b[36mCell\u001b[39m\u001b[36m \u001b[39m\u001b[32mIn[5]\u001b[39m\u001b[32m, line 44\u001b[39m, in \u001b[36msimulate_game\u001b[39m\u001b[34m(api, max_moves, mcts_iters, c, max_depth, workers)\u001b[39m\n\u001b[32m     41\u001b[39m \u001b[38;5;28mprint\u001b[39m(\u001b[33mf\u001b[39m\u001b[33m\"\u001b[39m\u001b[38;5;130;01m\\n\u001b[39;00m\u001b[33mMove \u001b[39m\u001b[38;5;132;01m{\u001b[39;00mmove_no\u001b[38;5;132;01m}\u001b[39;00m\u001b[33m - Player \u001b[39m\u001b[38;5;132;01m{\u001b[39;00mcurrent_player_id\u001b[38;5;132;01m}\u001b[39;00m\u001b[33m\"\u001b[39m)\n\u001b[32m     43\u001b[39m \u001b[38;5;66;03m# Поиск лучшего хода\u001b[39;00m\n\u001b[32m---> \u001b[39m\u001b[32m44\u001b[39m action = \u001b[43mactive_player\u001b[49m\u001b[43m.\u001b[49m\u001b[43msearch\u001b[49m\u001b[43m(\u001b[49m\n\u001b[32m     45\u001b[39m \u001b[43m    \u001b[49m\u001b[43miterations\u001b[49m\u001b[43m=\u001b[49m\u001b[43mmcts_iters\u001b[49m\u001b[43m,\u001b[49m\u001b[43m \u001b[49m\u001b[43mshow_progress\u001b[49m\u001b[43m=\u001b[49m\u001b[38;5;28;43;01mTrue\u001b[39;49;00m\u001b[43m,\u001b[49m\u001b[43m \u001b[49m\u001b[43mdesc\u001b[49m\u001b[43m=\u001b[49m\u001b[33;43mf\u001b[39;49m\u001b[33;43m\"\u001b[39;49m\u001b[33;43mMove \u001b[39;49m\u001b[38;5;132;43;01m{\u001b[39;49;00m\u001b[43mmove_no\u001b[49m\u001b[38;5;132;43;01m}\u001b[39;49;00m\u001b[33;43m (Player \u001b[39;49m\u001b[38;5;132;43;01m{\u001b[39;49;00m\u001b[43mcurrent_player_id\u001b[49m\u001b[38;5;132;43;01m}\u001b[39;49;00m\u001b[33;43m)\u001b[39;49m\u001b[33;43m\"\u001b[39;49m\n\u001b[32m     46\u001b[39m \u001b[43m\u001b[49m\u001b[43m)\u001b[49m\n\u001b[32m     48\u001b[39m \u001b[38;5;28mprint\u001b[39m(\u001b[33mf\u001b[39m\u001b[33m\"\u001b[39m\u001b[33mSelected action: \u001b[39m\u001b[38;5;132;01m{\u001b[39;00maction.action_id\u001b[38;5;132;01m}\u001b[39;00m\u001b[33m (\u001b[39m\u001b[38;5;132;01m{\u001b[39;00maction.action_type\u001b[38;5;132;01m}\u001b[39;00m\u001b[33m)\u001b[39m\u001b[33m\"\u001b[39m)\n\u001b[32m     50\u001b[39m response = api.apply_action(state, action)\n",
      "\u001b[36mCell\u001b[39m\u001b[36m \u001b[39m\u001b[32mIn[4]\u001b[39m\u001b[32m, line 220\u001b[39m, in \u001b[36mMCTSPlayer.search\u001b[39m\u001b[34m(self, iterations, show_progress, desc)\u001b[39m\n\u001b[32m    217\u001b[39m \u001b[38;5;28;01mfor\u001b[39;00m i \u001b[38;5;129;01min\u001b[39;00m \u001b[38;5;28mrange\u001b[39m(iterations_per_worker):\n\u001b[32m    218\u001b[39m     futures.append(executor.submit(\u001b[38;5;28mself\u001b[39m._run_iteration))\n\u001b[32m--> \u001b[39m\u001b[32m220\u001b[39m \u001b[43m\u001b[49m\u001b[38;5;28;43;01mfor\u001b[39;49;00m\u001b[43m \u001b[49m\u001b[43mi\u001b[49m\u001b[43m,\u001b[49m\u001b[43m \u001b[49m\u001b[43mfuture\u001b[49m\u001b[43m \u001b[49m\u001b[38;5;129;43;01min\u001b[39;49;00m\u001b[43m \u001b[49m\u001b[38;5;28;43menumerate\u001b[39;49m\u001b[43m(\u001b[49m\u001b[43mconcurrent\u001b[49m\u001b[43m.\u001b[49m\u001b[43mfutures\u001b[49m\u001b[43m.\u001b[49m\u001b[43mas_completed\u001b[49m\u001b[43m(\u001b[49m\u001b[43mfutures\u001b[49m\u001b[43m)\u001b[49m\u001b[43m)\u001b[49m\u001b[43m:\u001b[49m\n\u001b[32m    221\u001b[39m \u001b[43m    \u001b[49m\u001b[38;5;28;43;01mif\u001b[39;49;00m\u001b[43m \u001b[49m\u001b[43mshow_progress\u001b[49m\u001b[43m:\u001b[49m\n\u001b[32m    222\u001b[39m \u001b[43m        \u001b[49m\u001b[43mpbar\u001b[49m\u001b[43m.\u001b[49m\u001b[43mupdate\u001b[49m\u001b[43m(\u001b[49m\u001b[32;43m1\u001b[39;49m\u001b[43m)\u001b[49m\n",
      "\u001b[36mFile \u001b[39m\u001b[32m/opt/homebrew/Cellar/python@3.11/3.11.10/Frameworks/Python.framework/Versions/3.11/lib/python3.11/concurrent/futures/_base.py:243\u001b[39m, in \u001b[36mas_completed\u001b[39m\u001b[34m(fs, timeout)\u001b[39m\n\u001b[32m    238\u001b[39m     \u001b[38;5;28;01mif\u001b[39;00m wait_timeout < \u001b[32m0\u001b[39m:\n\u001b[32m    239\u001b[39m         \u001b[38;5;28;01mraise\u001b[39;00m \u001b[38;5;167;01mTimeoutError\u001b[39;00m(\n\u001b[32m    240\u001b[39m                 \u001b[33m'\u001b[39m\u001b[38;5;132;01m%d\u001b[39;00m\u001b[33m (of \u001b[39m\u001b[38;5;132;01m%d\u001b[39;00m\u001b[33m) futures unfinished\u001b[39m\u001b[33m'\u001b[39m % (\n\u001b[32m    241\u001b[39m                 \u001b[38;5;28mlen\u001b[39m(pending), total_futures))\n\u001b[32m--> \u001b[39m\u001b[32m243\u001b[39m \u001b[43mwaiter\u001b[49m\u001b[43m.\u001b[49m\u001b[43mevent\u001b[49m\u001b[43m.\u001b[49m\u001b[43mwait\u001b[49m\u001b[43m(\u001b[49m\u001b[43mwait_timeout\u001b[49m\u001b[43m)\u001b[49m\n\u001b[32m    245\u001b[39m \u001b[38;5;28;01mwith\u001b[39;00m waiter.lock:\n\u001b[32m    246\u001b[39m     finished = waiter.finished_futures\n",
      "\u001b[36mFile \u001b[39m\u001b[32m/opt/homebrew/Cellar/python@3.11/3.11.10/Frameworks/Python.framework/Versions/3.11/lib/python3.11/threading.py:629\u001b[39m, in \u001b[36mEvent.wait\u001b[39m\u001b[34m(self, timeout)\u001b[39m\n\u001b[32m    627\u001b[39m signaled = \u001b[38;5;28mself\u001b[39m._flag\n\u001b[32m    628\u001b[39m \u001b[38;5;28;01mif\u001b[39;00m \u001b[38;5;129;01mnot\u001b[39;00m signaled:\n\u001b[32m--> \u001b[39m\u001b[32m629\u001b[39m     signaled = \u001b[38;5;28;43mself\u001b[39;49m\u001b[43m.\u001b[49m\u001b[43m_cond\u001b[49m\u001b[43m.\u001b[49m\u001b[43mwait\u001b[49m\u001b[43m(\u001b[49m\u001b[43mtimeout\u001b[49m\u001b[43m)\u001b[49m\n\u001b[32m    630\u001b[39m \u001b[38;5;28;01mreturn\u001b[39;00m signaled\n",
      "\u001b[36mFile \u001b[39m\u001b[32m/opt/homebrew/Cellar/python@3.11/3.11.10/Frameworks/Python.framework/Versions/3.11/lib/python3.11/threading.py:327\u001b[39m, in \u001b[36mCondition.wait\u001b[39m\u001b[34m(self, timeout)\u001b[39m\n\u001b[32m    325\u001b[39m \u001b[38;5;28;01mtry\u001b[39;00m:    \u001b[38;5;66;03m# restore state no matter what (e.g., KeyboardInterrupt)\u001b[39;00m\n\u001b[32m    326\u001b[39m     \u001b[38;5;28;01mif\u001b[39;00m timeout \u001b[38;5;129;01mis\u001b[39;00m \u001b[38;5;28;01mNone\u001b[39;00m:\n\u001b[32m--> \u001b[39m\u001b[32m327\u001b[39m         \u001b[43mwaiter\u001b[49m\u001b[43m.\u001b[49m\u001b[43macquire\u001b[49m\u001b[43m(\u001b[49m\u001b[43m)\u001b[49m\n\u001b[32m    328\u001b[39m         gotit = \u001b[38;5;28;01mTrue\u001b[39;00m\n\u001b[32m    329\u001b[39m     \u001b[38;5;28;01melse\u001b[39;00m:\n",
      "\u001b[31mKeyboardInterrupt\u001b[39m: "
     ]
    }
   ],
   "source": [
    "api = GameApi(\"http://localhost:8080\")\n",
    "\n",
    "simulate_game(\n",
    "    api,\n",
    "    max_moves=500,      # Максимальное количество ходов в игре\n",
    "    mcts_iters=20,     # Количество итераций MCTS при расчете хода\n",
    "    c=1.4,             \n",
    "    max_depth=6,       # Отсечка глубины симуляции\n",
    "    workers=8,  \n",
    ")"
   ]
  }
 ],
 "metadata": {
  "kernelspec": {
   "display_name": "venv",
   "language": "python",
   "name": "python3"
  },
  "language_info": {
   "codemirror_mode": {
    "name": "ipython",
    "version": 3
   },
   "file_extension": ".py",
   "mimetype": "text/x-python",
   "name": "python",
   "nbconvert_exporter": "python",
   "pygments_lexer": "ipython3",
   "version": "3.11.10"
  }
 },
 "nbformat": 4,
 "nbformat_minor": 5
}
